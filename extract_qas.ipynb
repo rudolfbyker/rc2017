{
 "cells": [
  {
   "cell_type": "code",
   "execution_count": 1,
   "metadata": {
    "collapsed": true
   },
   "outputs": [],
   "source": [
    "from rc import *\n",
    "import os"
   ]
  },
  {
   "cell_type": "code",
   "execution_count": 2,
   "metadata": {},
   "outputs": [
    {
     "data": {
      "text/plain": [
       "{u'output_folder': u'/home/dolf/tmp', u'rc_base_folder': u'/media/mem/rc2017'}"
      ]
     },
     "execution_count": 2,
     "metadata": {},
     "output_type": "execute_result"
    }
   ],
   "source": [
    "parameters = get_parameters()\n",
    "parameters"
   ]
  },
  {
   "cell_type": "code",
   "execution_count": 3,
   "metadata": {},
   "outputs": [
    {
     "data": {
      "text/plain": [
       "[u'panel_20170712',\n",
       " u'hall_A/20170712/aand/video',\n",
       " u'hall_A/20170712/aand/video/handcam',\n",
       " u'113983',\n",
       " u'15',\n",
       " u'63000',\n",
       " u'16',\n",
       " u'1932000',\n",
       " u'666',\n",
       " u'667']"
      ]
     },
     "execution_count": 3,
     "metadata": {},
     "output_type": "execute_result"
    }
   ],
   "source": [
    "qa = load_qa_info('panel_20170712')\n",
    "qa"
   ]
  },
  {
   "cell_type": "code",
   "execution_count": 4,
   "metadata": {},
   "outputs": [
    {
     "data": {
      "text/plain": [
       "u'ffmpeg -safe 0 -y -f concat -i /home/dolf/tmp/panel_20170712.cam1.files -itsoffset 113.983 -f concat -i /home/dolf/tmp/panel_20170712.cam2.files -filter_complex [0:v]pad=iw*2:ih[padded];[padded][1:v]overlay=W/2:0[sidebyside];[sidebyside]scale=-2:480[v];[0:a][1:a]amix[a] -map [v] -map [a] -ac 2 -ss 63.0 -to 3994.08 -c:v libx264 -crf 30 -preset ultrafast -async 1 /home/dolf/tmp/panel_20170712.mp4'"
      ]
     },
     "execution_count": 4,
     "metadata": {},
     "output_type": "execute_result"
    }
   ],
   "source": [
    "extract_qa(\n",
    "    output_filename=qa[0],\n",
    "    output_dir=parameters['output_folder'],\n",
    "    cam1_input_folder=os.path.join(parameters['rc_base_folder'], qa[1]),\n",
    "    cam2_input_folder=os.path.join(parameters['rc_base_folder'], qa[2]),\n",
    "    sync_delay_ms=int(qa[3]),\n",
    "    cam1_start_video=int(qa[4]),\n",
    "    cam1_start_time_ms=int(qa[5]),\n",
    "    cam1_stop_video=int(qa[6]),\n",
    "    cam1_stop_time_ms=int(qa[7]),\n",
    "    cam2_start_video=int(qa[8]),\n",
    "    cam2_stop_video=int(qa[9]),\n",
    "    dry_run=True\n",
    ")"
   ]
  },
  {
   "cell_type": "code",
   "execution_count": null,
   "metadata": {
    "collapsed": true
   },
   "outputs": [],
   "source": []
  }
 ],
 "metadata": {
  "kernelspec": {
   "display_name": "Python 2",
   "language": "python",
   "name": "python2"
  },
  "language_info": {
   "codemirror_mode": {
    "name": "ipython",
    "version": 2
   },
   "file_extension": ".py",
   "mimetype": "text/x-python",
   "name": "python",
   "nbconvert_exporter": "python",
   "pygments_lexer": "ipython2",
   "version": "2.7.14"
  }
 },
 "nbformat": 4,
 "nbformat_minor": 2
}
