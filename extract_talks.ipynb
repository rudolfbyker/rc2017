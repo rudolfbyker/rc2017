{
 "cells": [
  {
   "cell_type": "code",
   "execution_count": 3,
   "metadata": {},
   "outputs": [],
   "source": [
    "from ODSReader.ODSReader import ODSReader\n",
    "from rc import extract_talk\n",
    "import os"
   ]
  },
  {
   "cell_type": "code",
   "execution_count": 15,
   "metadata": {
    "collapsed": true
   },
   "outputs": [],
   "source": [
    "doc = ODSReader('rc2017.ods')\n",
    "parameters = {x[0]: x[1] for x in doc.getSheet(u'parameters')}\n",
    "talks = doc.getSheet(u'extract_talks')[1:]"
   ]
  },
  {
   "cell_type": "code",
   "execution_count": 18,
   "metadata": {
    "collapsed": true
   },
   "outputs": [],
   "source": [
    "def find_talk(name):\n",
    "    for t in talks:\n",
    "        if t[0] == name:\n",
    "            return t"
   ]
  },
  {
   "cell_type": "code",
   "execution_count": 23,
   "metadata": {},
   "outputs": [
    {
     "data": {
      "text/plain": [
       "[u'lind_genetic',\n",
       " u'conference_hall/20170712/oggend/video',\n",
       " u'657',\n",
       " u'455000',\n",
       " u'659',\n",
       " u'556000']"
      ]
     },
     "execution_count": 23,
     "metadata": {},
     "output_type": "execute_result"
    }
   ],
   "source": [
    "t = find_talk('lind_genetic')\n",
    "t"
   ]
  },
  {
   "cell_type": "code",
   "execution_count": 31,
   "metadata": {
    "collapsed": true
   },
   "outputs": [],
   "source": [
    "extract_talk(\n",
    "    output_filename=t[0],\n",
    "    input_dir=os.path.join(parameters['rc_base_folder'], t[1]),\n",
    "    start_vid=int(t[2]),\n",
    "    start_time_ms=int(t[3]),\n",
    "    stop_vid=int(t[4]),\n",
    "    stop_time_ms=int(t[5]),\n",
    "    output_dir=parameters['output_folder']\n",
    ")"
   ]
  },
  {
   "cell_type": "code",
   "execution_count": null,
   "metadata": {
    "collapsed": true
   },
   "outputs": [],
   "source": []
  }
 ],
 "metadata": {
  "kernelspec": {
   "display_name": "Python 2",
   "language": "python",
   "name": "python2"
  },
  "language_info": {
   "codemirror_mode": {
    "name": "ipython",
    "version": 2
   },
   "file_extension": ".py",
   "mimetype": "text/x-python",
   "name": "python",
   "nbconvert_exporter": "python",
   "pygments_lexer": "ipython2",
   "version": "2.7.14"
  }
 },
 "nbformat": 4,
 "nbformat_minor": 2
}
