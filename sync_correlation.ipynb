{
 "cells": [
  {
   "cell_type": "code",
   "execution_count": 4,
   "metadata": {
    "collapsed": true
   },
   "outputs": [],
   "source": [
    "from ODSReader.ODSReader import ODSReader\n",
    "from rc import extract_talk\n",
    "import os\n",
    "import subprocess\n",
    "from scikits import audiolab\n",
    "import numpy as np\n",
    "\n",
    "from matplotlib import pyplot as plt\n",
    "import seaborn as sns\n",
    "%matplotlib notebook"
   ]
  },
  {
   "cell_type": "code",
   "execution_count": 6,
   "metadata": {},
   "outputs": [
    {
     "ename": "MemoryError",
     "evalue": "",
     "output_type": "error",
     "traceback": [
      "\u001b[0;31m---------------------------------------------------------------------------\u001b[0m",
      "\u001b[0;31mMemoryError\u001b[0m                               Traceback (most recent call last)",
      "\u001b[0;32m<ipython-input-6-1f6622aced37>\u001b[0m in \u001b[0;36m<module>\u001b[0;34m()\u001b[0m\n\u001b[1;32m      1\u001b[0m \u001b[0mdata1\u001b[0m\u001b[0;34m,\u001b[0m \u001b[0mfs1\u001b[0m\u001b[0;34m,\u001b[0m \u001b[0menc1\u001b[0m \u001b[0;34m=\u001b[0m \u001b[0maudiolab\u001b[0m\u001b[0;34m.\u001b[0m\u001b[0mwavread\u001b[0m\u001b[0;34m(\u001b[0m\u001b[0;34m'one.wav'\u001b[0m\u001b[0;34m)\u001b[0m\u001b[0;34m\u001b[0m\u001b[0m\n\u001b[0;32m----> 2\u001b[0;31m \u001b[0mdata2\u001b[0m\u001b[0;34m,\u001b[0m \u001b[0mfs2\u001b[0m\u001b[0;34m,\u001b[0m \u001b[0menc2\u001b[0m \u001b[0;34m=\u001b[0m \u001b[0maudiolab\u001b[0m\u001b[0;34m.\u001b[0m\u001b[0mwavread\u001b[0m\u001b[0;34m(\u001b[0m\u001b[0;34m'two.wav'\u001b[0m\u001b[0;34m)\u001b[0m\u001b[0;34m\u001b[0m\u001b[0m\n\u001b[0m\u001b[1;32m      3\u001b[0m \u001b[0;34m\u001b[0m\u001b[0m\n\u001b[1;32m      4\u001b[0m \u001b[0;32mif\u001b[0m \u001b[0mfs1\u001b[0m \u001b[0;34m!=\u001b[0m \u001b[0mfs2\u001b[0m\u001b[0;34m:\u001b[0m\u001b[0;34m\u001b[0m\u001b[0m\n\u001b[1;32m      5\u001b[0m     \u001b[0;32mprint\u001b[0m \u001b[0;34m\"WARNING: SAMPLE RATES ARE NOT THE SAME\"\u001b[0m\u001b[0;34m\u001b[0m\u001b[0m\n",
      "\u001b[0;32m/home/dolf/anaconda2/lib/python2.7/site-packages/scikits/audiolab/pysndfile/matapi.pyc\u001b[0m in \u001b[0;36mbasic_reader\u001b[0;34m(filename, last, first)\u001b[0m\n\u001b[1;32m    104\u001b[0m             \u001b[0;32mif\u001b[0m \u001b[0mlast\u001b[0m \u001b[0;32mis\u001b[0m \u001b[0mNone\u001b[0m\u001b[0;34m:\u001b[0m\u001b[0;34m\u001b[0m\u001b[0m\n\u001b[1;32m    105\u001b[0m                 \u001b[0mnframes\u001b[0m \u001b[0;34m=\u001b[0m \u001b[0mhdl\u001b[0m\u001b[0;34m.\u001b[0m\u001b[0mnframes\u001b[0m \u001b[0;34m-\u001b[0m \u001b[0mfirst\u001b[0m\u001b[0;34m\u001b[0m\u001b[0m\n\u001b[0;32m--> 106\u001b[0;31m                 \u001b[0mdata\u001b[0m    \u001b[0;34m=\u001b[0m \u001b[0mhdl\u001b[0m\u001b[0;34m.\u001b[0m\u001b[0mread_frames\u001b[0m\u001b[0;34m(\u001b[0m\u001b[0mnframes\u001b[0m\u001b[0;34m)\u001b[0m\u001b[0;34m\u001b[0m\u001b[0m\n\u001b[0m\u001b[1;32m    107\u001b[0m             \u001b[0;32melse\u001b[0m\u001b[0;34m:\u001b[0m\u001b[0;34m\u001b[0m\u001b[0m\n\u001b[1;32m    108\u001b[0m                 \u001b[0mdata\u001b[0m    \u001b[0;34m=\u001b[0m \u001b[0mhdl\u001b[0m\u001b[0;34m.\u001b[0m\u001b[0mread_frames\u001b[0m\u001b[0;34m(\u001b[0m\u001b[0mlast\u001b[0m\u001b[0;34m)\u001b[0m\u001b[0;34m\u001b[0m\u001b[0m\n",
      "\u001b[0;32m_sndfile.pyx\u001b[0m in \u001b[0;36mscikits.audiolab.pysndfile._sndfile.Sndfile.read_frames (scikits/audiolab/pysndfile/_sndfile.c:5361)\u001b[0;34m()\u001b[0m\n",
      "\u001b[0;32m_sndfile.pyx\u001b[0m in \u001b[0;36mscikits.audiolab.pysndfile._sndfile.Sndfile.read_frames_double (scikits/audiolab/pysndfile/_sndfile.c:5656)\u001b[0;34m()\u001b[0m\n",
      "\u001b[0;31mMemoryError\u001b[0m: "
     ]
    }
   ],
   "source": [
    "data1, fs1, enc1 = audiolab.wavread('one.wav')\n",
    "data2, fs2, enc2 = audiolab.wavread('two.wav')\n",
    "\n",
    "if fs1 != fs2:\n",
    "    print \"WARNING: SAMPLE RATES ARE NOT THE SAME\"\n",
    "else:\n",
    "    print \"OK, sample rates are the same.\"\n",
    "    \n",
    "if enc1 != enc2:\n",
    "    print \"WARNING: AUDIO ENCODINGS ARE NOT THE SAME\"\n",
    "else:\n",
    "    print \"OK, audio encodings are the same.\"\n"
   ]
  },
  {
   "cell_type": "code",
   "execution_count": null,
   "metadata": {},
   "outputs": [],
   "source": [
    "one = data1.T[0]\n",
    "two = data2.T[0]\n",
    "if len(one) > len(two):\n",
    "    longer = one\n",
    "    shorter = two\n",
    "else:\n",
    "    longer = two\n",
    "    shorter = one"
   ]
  },
  {
   "cell_type": "code",
   "execution_count": null,
   "metadata": {},
   "outputs": [],
   "source": []
  },
  {
   "cell_type": "code",
   "execution_count": null,
   "metadata": {
    "collapsed": true
   },
   "outputs": [],
   "source": []
  }
 ],
 "metadata": {
  "kernelspec": {
   "display_name": "Python 2",
   "language": "python",
   "name": "python2"
  },
  "language_info": {
   "codemirror_mode": {
    "name": "ipython",
    "version": 2
   },
   "file_extension": ".py",
   "mimetype": "text/x-python",
   "name": "python",
   "nbconvert_exporter": "python",
   "pygments_lexer": "ipython2",
   "version": "2.7.14"
  }
 },
 "nbformat": 4,
 "nbformat_minor": 2
}
